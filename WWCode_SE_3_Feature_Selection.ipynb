{
 "cells": [
  {
   "cell_type": "markdown",
   "metadata": {},
   "source": [
    "\n",
    "## Sesión de Estudio Nª3 WWCode Santiago "
   ]
  },
  {
   "cell_type": "markdown",
   "metadata": {},
   "source": [
    "## 1. Contenidos 📘\n",
    "\n",
    "El objetivo de esta sesión es que te familiaces con los siguientes conceptos:\n",
    "\n",
    "- Machine Learning\n",
    "- Feature Selection\n",
    "- Accuracy\n",
    "- Overfitting\n",
    "- Matrix de correlación\n",
    "\n",
    "## 2. Forma de trabajo 🙊\n",
    "\n",
    "En esta oportunidad tú serás tu propia speaker, a través de este notebook se te plantearán una serie de ejercicios y pregunta que deberás ir resolviendo. No te preocupes si no alcanzas a terminarlo, es muy probable que hayan más ejercicios de los posibles a hacer durante la jornada. Si tienes dudas o consultas no dudes en preguntar a la monitora de la sesión o a tus propias compañeras, esta instancia está hecha para que entre todas aprendamos algo nuevo\n",
    "\n",
    "\n",
    "## 3. Introducción al tema 🤖\n",
    "\n",
    "### Feature selection\n",
    "Es el proceso que permite selecionar de manera más eficiente aquellos atributos del dataset que efectivamente son necesarios para el modelo y descartar aquellos que solo agregan ruido. Entre las ventajas de aplicar feature selection se encuentra:\n",
    "\n",
    "- Reducción de Overfitting\n",
    "- Mejoras en la precisión\n",
    "- Reducción del tiempo de entrenamiento\n",
    "\n",
    "\n",
    "Revisamos 6 técnicas diferentes para feature selection, para ello utilizaremos el dataset reducido del desafío **[Home Credit Default Risk](https://www.kaggle.com/c/home-credit-default-risk/data)** de Kaggle disponible en el repo. Sin embargo, si quieres usar el dataset original te invito a revisar las intrucciones para habilitar la API de Kaggle en tu equipo\n",
    "\n",
    "> https://github.com/Kaggle/kaggle-api\n",
    "\n",
    "## 4.Manos al a obra 💪🏻\n",
    "\n",
    "A continuación Encontrarás celdas de código con instrucciones que debes seguir. De ahora en adelante el desarrollo es 100% tu creatividad, apoyáte de textos y gráficos cuando estimes conveniente. Las preguntas que salen son una guía de lo que debes hacer, pero puedes agregar todo lo que estimes conveniente. Recuerda que tus análisis no siempre los revisan personas expertas y todos debens ser capaces de seguir tu lógica.\n",
    "\n",
    "\n",
    "**_Mucho éxito 🙌 !!_**\n"
   ]
  },
  {
   "cell_type": "markdown",
   "metadata": {},
   "source": [
    "### 1. Carga de datos"
   ]
  },
  {
   "cell_type": "code",
   "execution_count": 2,
   "metadata": {},
   "outputs": [],
   "source": [
    "#importa las librerías necesarias para tu trabajo"
   ]
  },
  {
   "cell_type": "code",
   "execution_count": 30,
   "metadata": {},
   "outputs": [],
   "source": [
    "#input de datos.\n",
    "#crea una variable llamada datos que lea el archivo application_train_lite.csv"
   ]
  },
  {
   "cell_type": "markdown",
   "metadata": {},
   "source": [
    "### 2. Revisión del dataset"
   ]
  },
  {
   "cell_type": "markdown",
   "metadata": {},
   "source": [
    "#### 2.1 Descripción general"
   ]
  },
  {
   "cell_type": "code",
   "execution_count": 7,
   "metadata": {},
   "outputs": [],
   "source": [
    "#Acá debes responder a las preguntas tipo:\n",
    "#Cuantás columnas tiene el dataset?Cuántas filas?\n",
    "#Cual es la variable objetivo? Spoiler:target.\n",
    "#Esta variables es categórica?Es data desbalanceada?\n",
    "#La variable es numérica?, tiene patrones de comportamiento?, es muy dispersa?"
   ]
  },
  {
   "cell_type": "markdown",
   "metadata": {},
   "source": [
    "#### 2.2 Tratamiento de missing"
   ]
  },
  {
   "cell_type": "code",
   "execution_count": 8,
   "metadata": {},
   "outputs": [],
   "source": [
    "#Análisis del dataset\n",
    "#Cuántas variables categoricas hay?Cuántas numéricas?\n",
    "#Cuál es el % de datos missing?\n",
    "#Genera imputación de missing. Apóyate de Imputer de SkLeark\n"
   ]
  },
  {
   "cell_type": "markdown",
   "metadata": {},
   "source": [
    "### 3. Feature Selection"
   ]
  },
  {
   "cell_type": "markdown",
   "metadata": {},
   "source": [
    "#### 3.1 Ningún Criterio\n",
    "\n",
    "Para probar la efectividad de feature selection primero se entrenará un modelo con todos los campos y su accuracy se tomará como base. Al final de cada criterio de feature selection se volverá a entrenar el mismo modelo, con el fin de evaluar cambios en su performance"
   ]
  },
  {
   "cell_type": "code",
   "execution_count": 14,
   "metadata": {},
   "outputs": [],
   "source": [
    "#Entrena tu modelo favorito (evita usar el automodel). \n",
    "#Si no tienes ninguno en mente puedes usar un arbol de decisión simple.\n",
    "#Nota. si sientes que tienes buen manejo de código, podrías escribir un método\n",
    "#Donde entregues el dataset y retorne el accuracy."
   ]
  },
  {
   "cell_type": "markdown",
   "metadata": {},
   "source": [
    "#### 3.2 Filtros\n",
    "\n",
    "Métodos que eliminan columnas **antes** de que sea necesario entrenar algo. Se conocen por ser métodos aplicados 100% en el preproceso\n",
    "\n",
    "##### **3.1.1 Variance Threshold**\n",
    "Considerando que si una variables es relativamente constante no agrega mucho valor a tomar decisiones, este criterio elimina todas aquellas que tengan baja varianza\n",
    "\n",
    "##### **3.1.1 Correlation Threshold**\n",
    "Elimina variables que estén fuertemente relacionadas entre sí o que sean muy similares , con el fin de no tener información redundante\n",
    "\n",
    "##### **3.1.1 Univariate selection**\n",
    "Analiza relación que existe entre cada variable y el target de manera independiente. Para ello, se pueden utilizar dos test estadísticos\n",
    "\n",
    "- Coeficiente de correlación de Pearson: \n",
    "- Chi cuadrado (Usual en variables categóricas)\n",
    "- ANOVA (Usual en variables numéricas)\n",
    "- Mutual Information and maximal information coefficient (MIC)"
   ]
  },
  {
   "cell_type": "code",
   "execution_count": 20,
   "metadata": {},
   "outputs": [],
   "source": [
    "#1.Elige 3 criterios de los anteriores, revisa en internet para escribir una breve\n",
    "#definición y realiza un primer feature selection.\n",
    "#2.Indica qué variables quedaron fuera y revisa cuánto cambia el accuracy de tu \n",
    "#modelo\n",
    "\n",
    "\n",
    "#Tip: Alabado sea SKlearn, con el nada te faltará"
   ]
  },
  {
   "cell_type": "markdown",
   "metadata": {},
   "source": [
    "#### 3.3 Wrapper-based Method\n",
    "Están basado en algoritmos de búsqueda que van evaluando todas las posibles combinaciones de variables y seleccionan aquella que produce el mejor resultado de predicción\n",
    "\n",
    "\n",
    "##### **3.2.1 Forward Search**\n",
    "Inicialmente considera la performance con cada una de las variables de manera separada.La que tenga mejor resultado será considerada como variable inicial y sobre esta se genera la combinatoria de búsqueda.\n",
    "\n",
    "\n",
    "##### **3.2.2 Backward Search**\n",
    "Este método comienza entrenando con todas las variables ingresadas y va eliminando en la medida que sube la performance\n",
    "\n",
    "##### **3.2.3 Recursive Feature Elimination**\n",
    "Similar a un modelo de optimización, busca encontrar el conjunto de variables que maximice el rendimiento del modelo. Para lograr dicho objetivo, crea modelos de forma iterativa, dejando de lado las variables con mejores y peores resultados (es decir, deja las que tienen un rendimiento equilibrado)\n"
   ]
  },
  {
   "cell_type": "code",
   "execution_count": 21,
   "metadata": {},
   "outputs": [],
   "source": [
    "#1.Elige 1 criterios de los anteriores y realiza un segundo feature selection.\n",
    "#2.Indica qué variables quedaron fuera y revisa cuánto cambia el accuracy de tu \n",
    "#modelo\n",
    "\n",
    "\n",
    "#Tip: Alabado sea SKlearn, con el nada te faltará"
   ]
  },
  {
   "cell_type": "markdown",
   "metadata": {},
   "source": [
    "#### 3.4 Embedded Method\n",
    "Son algoritmos que usan su propio criterio de selección de variables. Acá encontramos algunos clásicos como Lasso y Random Forest. En el caso de Lasso, este modelo generalmente fuerza a algunas variables a que tengan pesos equivalente a cero, dejando nulo el impacto de estas en la predicción. Por otro lado, el Random Forest una vez entrenado permite hacer un análisis de importancia. También se puede usar GBM.\n"
   ]
  },
  {
   "cell_type": "code",
   "execution_count": 22,
   "metadata": {},
   "outputs": [],
   "source": [
    "#1.Elige 1 criterios de los anteriores\n",
    "#2.Haz una pequeña búsqueda bibliográfica para definir con tus palabras en qué consiste\n",
    "#cada método. Si te sientes muy perdida pide referencias a la monitora.\n",
    "#3.Entrena el modelo seleccionado con la data pura\n",
    "#4.Entrena el modelo selccionado con alguna feature selection anterior.\n",
    "\n",
    "\n",
    "#Tip: Alabado sea SKlearn, con el nada te faltará"
   ]
  },
  {
   "cell_type": "markdown",
   "metadata": {},
   "source": [
    "#### 4 Conclusiones y tips"
   ]
  },
  {
   "cell_type": "code",
   "execution_count": 23,
   "metadata": {},
   "outputs": [],
   "source": [
    "#Completa esta sección con las cosas más importantes \n",
    "#que aprendiste durante el proceso"
   ]
  },
  {
   "cell_type": "code",
   "execution_count": null,
   "metadata": {},
   "outputs": [],
   "source": []
  }
 ],
 "metadata": {
  "kernelspec": {
   "display_name": "'Python Interactive'",
   "language": "python",
   "name": "ef640dac-464f-471b-8e7d-904f2a03df31"
  },
  "language_info": {
   "codemirror_mode": {
    "name": "ipython",
    "version": 3
   },
   "file_extension": ".py",
   "mimetype": "text/x-python",
   "name": "python",
   "nbconvert_exporter": "python",
   "pygments_lexer": "ipython3",
   "version": "3.7.4"
  }
 },
 "nbformat": 4,
 "nbformat_minor": 4
}
